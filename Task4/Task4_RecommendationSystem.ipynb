{
 "cells": [
  {
   "cell_type": "code",
   "execution_count": 3,
   "id": "11dbef72",
   "metadata": {},
   "outputs": [
    {
     "name": "stdout",
     "output_type": "stream",
     "text": [
      "Dataset preview:\n",
      "   userId  movieId  rating\n",
      "0       1      101       5\n",
      "1       1      102       4\n",
      "2       1      103       3\n",
      "3       2      101       4\n",
      "4       2      104       5\n"
     ]
    },
    {
     "data": {
      "image/png": "[encoded data removed]",
      "text/plain": [
       "<Figure size 600x400 with 1 Axes>"
      ]
     },
     "metadata": {},
     "output_type": "display_data"
    },
    {
     "name": "stdout",
     "output_type": "stream",
     "text": [
      "\n",
      "Evaluating RMSE, MAE of algorithm SVD on 5 split(s).\n",
      "Evaluating RMSE, MAE of algorithm SVD on 5 split(s).\n",
      "\n",
      "                  Fold 1  Fold 2  Fold 3  Fold 4  Fold 5  Mean    Std     \n",
      "RMSE (testset)    1.1734  0.8293  1.4093  0.8816  1.2749  1.1137  0.2244  \n",
      "MAE (testset)     1.0493  0.7332  1.3572  0.6974  1.0477  0.9770  0.2418  \n",
      "Fit time          0.00    0.00    0.00    0.00    0.00    0.00    0.00    \n",
      "Test time         0.00    0.00    0.00    0.00    0.00    0.00    0.00    \n",
      "\n",
      "Average RMSE: 1.1137044620511027\n",
      "Average MAE: 0.9769730771061497\n",
      "\n",
      "Top-3 movie recommendations for users:\n",
      "User 1: [105, 104]\n",
      "User 2: [103, 105, 102]\n",
      "User 3: [104, 101]\n",
      "User 4: [103, 104, 102]\n",
      "User 5: [101, 102]\n"
     ]
    }
   ],
   "source": [
    "# ================================\n",
    "# Task 4: Movie Recommendation System\n",
    "# Collaborative Filtering (SVD)\n",
    "# ================================\n",
    "\n",
    "# Step 1: Import Libraries\n",
    "import pandas as pd\n",
    "import numpy as np\n",
    "import matplotlib.pyplot as plt\n",
    "import seaborn as sns\n",
    "from surprise import Dataset, Reader, SVD\n",
    "from surprise.model_selection import cross_validate, train_test_split\n",
    "\n",
    "# Step 2: Load Dataset\n",
    "# Make sure the CSV file is inside Task4/task4_movies.csv\n",
    "df = pd.read_csv(\"task4_movies.csv\")\n",
    "print(\"Dataset preview:\")\n",
    "print(df.head())\n",
    "\n",
    "# Step 3: Data Visualization\n",
    "plt.figure(figsize=(6,4))\n",
    "sns.countplot(x='rating', data=df, hue='rating', legend=False, palette=\"Set2\")\n",
    "plt.title(\"Rating Distribution\")\n",
    "plt.show()\n",
    "\n",
    "# Step 4: Prepare Data for Surprise Library\n",
    "reader = Reader(rating_scale=(1, 5))\n",
    "data = Dataset.load_from_df(df[['userId', 'movieId', 'rating']], reader)\n",
    "\n",
    "# Step 5: Train-Test Split\n",
    "trainset, testset = train_test_split(data, test_size=0.2, random_state=42)\n",
    "\n",
    "# Step 6: Train SVD Model\n",
    "model = SVD()\n",
    "model.fit(trainset)\n",
    "\n",
    "# Step 7: Evaluate Model using Cross Validation\n",
    "print(\"\\nEvaluating RMSE, MAE of algorithm SVD on 5 split(s).\")\n",
    "results = cross_validate(model, data, measures=['RMSE', 'MAE'], cv=5, verbose=True)\n",
    "\n",
    "print(\"\\nAverage RMSE:\", np.mean(results['test_rmse']))\n",
    "print(\"Average MAE:\", np.mean(results['test_mae']))\n",
    "\n",
    "# Step 8: Generate Recommendations\n",
    "def get_top_n_recommendations(model, df, user_ids, n=3):\n",
    "    top_n = {}\n",
    "    all_movie_ids = df['movieId'].unique()\n",
    "    for user in user_ids:\n",
    "        user_seen = df[df['userId'] == user]['movieId'].tolist()\n",
    "        predictions = [model.predict(user, movie) for movie in all_movie_ids if movie not in user_seen]\n",
    "        predictions.sort(key=lambda x: x.est, reverse=True)\n",
    "        top_n[user] = [pred.iid for pred in predictions[:n]]\n",
    "    return top_n\n",
    "\n",
    "print(\"\\nTop-3 movie recommendations for users:\")\n",
    "sample_users = df['userId'].unique()[:5]  # first 5 users\n",
    "recommendations = get_top_n_recommendations(model, df, sample_users, n=3)\n",
    "for user, recs in recommendations.items():\n",
    "    print(f\"User {user}: {recs}\")\n"
   ]
  },
  {
   "cell_type": "code",
   "execution_count": 1,
   "id": "dedf0719-8390-4725-8e36-3dd623f68ac0",
   "metadata": {},
   "outputs": [
    {
     "name": "stdout",
     "output_type": "stream",
     "text": [
      "Current working directory: c:\\Users\\priyanka\\ML-Internship-CodTech\\Task4\n"
     ]
    }
   ],
   "source": [
    "import os\n",
    "print(\"Current working directory:\", os.getcwd())\n"
   ]
  }
 ],
 "metadata": {
  "kernelspec": {
   "display_name": "Python (ml_internship)",
   "language": "python",
   "name": "ml_internship"
  },
  "language_info": {
   "codemirror_mode": {
    "name": "ipython",
    "version": 3
   },
   "file_extension": ".py",
   "mimetype": "text/x-python",
   "name": "python",
   "nbconvert_exporter": "python",
   "pygments_lexer": "ipython3",
   "version": "3.10.18"
  }
 },
 "nbformat": 4,
 "nbformat_minor": 5
}
