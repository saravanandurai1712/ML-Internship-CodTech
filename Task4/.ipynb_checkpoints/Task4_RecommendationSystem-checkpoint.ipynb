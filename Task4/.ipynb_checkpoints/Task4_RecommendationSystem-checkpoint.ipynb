{
 "cells": [
  {
   "cell_type": "code",
   "execution_count": 1,
   "id": "11dbef72",
   "metadata": {},
   "outputs": [
    {
     "ename": "ModuleNotFoundError",
     "evalue": "No module named 'pandas'",
     "output_type": "error",
     "traceback": [
      "\u001b[1;31m---------------------------------------------------------------------------\u001b[0m",
      "\u001b[1;31mModuleNotFoundError\u001b[0m                       Traceback (most recent call last)",
      "Cell \u001b[1;32mIn[1], line 7\u001b[0m\n\u001b[0;32m      1\u001b[0m \u001b[38;5;66;03m# ================================\u001b[39;00m\n\u001b[0;32m      2\u001b[0m \u001b[38;5;66;03m# Task 4: Movie Recommendation System\u001b[39;00m\n\u001b[0;32m      3\u001b[0m \u001b[38;5;66;03m# Using Collaborative Filtering (SVD)\u001b[39;00m\n\u001b[0;32m      4\u001b[0m \u001b[38;5;66;03m# ================================\u001b[39;00m\n\u001b[0;32m      5\u001b[0m \n\u001b[0;32m      6\u001b[0m \u001b[38;5;66;03m# Step 1: Import Libraries\u001b[39;00m\n\u001b[1;32m----> 7\u001b[0m \u001b[38;5;28;01mimport\u001b[39;00m\u001b[38;5;250m \u001b[39m\u001b[38;5;21;01mpandas\u001b[39;00m\u001b[38;5;250m \u001b[39m\u001b[38;5;28;01mas\u001b[39;00m\u001b[38;5;250m \u001b[39m\u001b[38;5;21;01mpd\u001b[39;00m\n\u001b[0;32m      8\u001b[0m \u001b[38;5;28;01mimport\u001b[39;00m\u001b[38;5;250m \u001b[39m\u001b[38;5;21;01mnumpy\u001b[39;00m\u001b[38;5;250m \u001b[39m\u001b[38;5;28;01mas\u001b[39;00m\u001b[38;5;250m \u001b[39m\u001b[38;5;21;01mnp\u001b[39;00m\n\u001b[0;32m      9\u001b[0m \u001b[38;5;28;01mimport\u001b[39;00m\u001b[38;5;250m \u001b[39m\u001b[38;5;21;01mmatplotlib\u001b[39;00m\u001b[38;5;21;01m.\u001b[39;00m\u001b[38;5;21;01mpyplot\u001b[39;00m\u001b[38;5;250m \u001b[39m\u001b[38;5;28;01mas\u001b[39;00m\u001b[38;5;250m \u001b[39m\u001b[38;5;21;01mplt\u001b[39;00m\n",
      "\u001b[1;31mModuleNotFoundError\u001b[0m: No module named 'pandas'"
     ]
    }
   ],
   "source": [
    "# ================================\n",
    "# Task 4: Movie Recommendation System\n",
    "# Collaborative Filtering (SVD)\n",
    "# ================================\n",
    "\n",
    "# Step 1: Import Libraries\n",
    "import pandas as pd\n",
    "import numpy as np\n",
    "import matplotlib.pyplot as plt\n",
    "import seaborn as sns\n",
    "from surprise import Dataset, Reader, SVD\n",
    "from surprise.model_selection import train_test_split, cross_validate\n",
    "\n",
    "# Step 2: Load Dataset\n",
    "# CSV path: Task4/task4_movies.csv\n",
    "df = pd.read_csv('Task4/task4_movies.csv')\n",
    "print(\"Dataset preview:\")\n",
    "print(df.head())\n",
    "\n",
    "# Plot ratings distribution\n",
    "plt.figure(figsize=(6,4))\n",
    "sns.countplot(x='rating', data=df, palette=\"Set2\")\n",
    "plt.title(\"Rating Distribution\")\n",
    "plt.show()\n",
    "\n",
    "# Step 3: Prepare data for Surprise\n",
    "reader = Reader(rating_scale=(1,5))\n",
    "data = Dataset.load_from_df(df[['userId','movieId','rating']], reader)\n",
    "\n",
    "# Step 4: Train-Test Split\n",
    "trainset, testset = train_test_split(data, test_size=0.2, random_state=42)\n",
    "\n",
    "# Step 5: Build SVD model\n",
    "svd_model = SVD(n_factors=50, n_epochs=20, random_state=42)\n",
    "svd_model.fit(trainset)\n",
    "\n",
    "# Step 6: Evaluate model using cross-validation\n",
    "cv_results = cross_validate(svd_model, data, measures=['RMSE','MAE'], cv=5, verbose=True)\n",
    "print(\"\\nAverage RMSE:\", np.mean(cv_results['test_rmse']))\n",
    "print(\"Average MAE:\", np.mean(cv_results['test_mae']))\n",
    "\n",
    "# Step 7: Predict ratings on testset\n",
    "predictions = svd_model.test(testset)\n",
    "\n",
    "# Step 8: Top-N Recommendations for each user\n",
    "from collections import defaultdict\n",
    "\n",
    "def get_top_n(predictions, n=3):\n",
    "    top_n = defaultdict(list)\n",
    "    for uid, iid, true_r, est, _ in predictions:\n",
    "        top_n[uid].append((iid, est))\n",
    "    for uid, user_ratings in top_n.items():\n",
    "        user_ratings.sort(key=lambda x: x[1], reverse=True)\n",
    "        top_n[uid] = user_ratings[:n]\n",
    "    return top_n\n",
    "\n",
    "top_n_recommendations = get_top_n(predictions, n=3)\n",
    "\n",
    "# Display Top-N recommendations\n",
    "print(\"\\nTop-3 movie recommendations for users:\")\n",
    "for user_id, user_ratings in top_n_recommendations.items():\n",
    "    print(f\"User {user_id}: {[iid for (iid, _) in user_ratings]}\")\n"
   ]
  },
  {
   "cell_type": "code",
   "execution_count": null,
   "id": "dedf0719-8390-4725-8e36-3dd623f68ac0",
   "metadata": {},
   "outputs": [],
   "source": []
  }
 ],
 "metadata": {
  "kernelspec": {
   "display_name": "Python (ml_internship)",
   "language": "python",
   "name": "ml_internship"
  },
  "language_info": {
   "codemirror_mode": {
    "name": "ipython",
    "version": 3
   },
   "file_extension": ".py",
   "mimetype": "text/x-python",
   "name": "python",
   "nbconvert_exporter": "python",
   "pygments_lexer": "ipython3",
   "version": "3.10.18"
  }
 },
 "nbformat": 4,
 "nbformat_minor": 5
}
